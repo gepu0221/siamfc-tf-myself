{
 "cells": [
  {
   "cell_type": "code",
   "execution_count": 1,
   "metadata": {},
   "outputs": [
    {
     "name": "stdout",
     "output_type": "stream",
     "text": [
      "1\n",
      "2\n"
     ]
    }
   ],
   "source": [
    "import tensorflow as tf\n",
    "w=[1,2]\n",
    "#w[0]=[1,2,3,4]\n",
    "#w[1]=[1,2,6,4]\n",
    "w[0]=1\n",
    "w[1]=2\n",
    "print(w[0])\n",
    "print(w[1])\n",
    "\n",
    "w1=tf.placeholder(tf.int32)\n",
    "w2=tf.placeholder(tf.int32)\n",
    "def test():\n",
    "    b2=1\n",
    "    b1=2\n",
    "    with tf.variable_scope('c1'):\n",
    "        w11=tf.get_variable('W1',[1],trainable=False,initializer=tf.constant_initializer(b1))\n",
    "        \n",
    "        tf.summary.histogram('W1',w11)\n",
    "        w22=tf.get_variable('W2',[1],trainable=False,initializer=tf.constant_initializer(b2))\n",
    "        w11=w11+w11\n",
    "        w22=w22+w22\n",
    "    \n",
    "    return w11\n",
    "\n",
    "w_op=test()\n",
    "    \n",
    "with tf.Session() as sess:\n",
    "    tf.global_variables_initializer().run()\n",
    "    \n",
    "    merged=tf.summary.merge_all()\n",
    "    writer=tf.summary.FileWriter('/tmp/tensorlogs/test',sess.graph)\n",
    "    for i in range(5):\n",
    "        w_r1,result=sess.run([w_op,merged],feed_dict={w1:w[0],w2:w[1]})\n",
    "        writer.add_summary(result,i)\n",
    "    #print(w_r1)\n",
    "    #print(w_r2)"
   ]
  },
  {
   "cell_type": "code",
   "execution_count": null,
   "metadata": {},
   "outputs": [],
   "source": []
  }
 ],
 "metadata": {
  "kernelspec": {
   "display_name": "Python 3",
   "language": "python",
   "name": "python3"
  },
  "language_info": {
   "codemirror_mode": {
    "name": "ipython",
    "version": 3
   },
   "file_extension": ".py",
   "mimetype": "text/x-python",
   "name": "python",
   "nbconvert_exporter": "python",
   "pygments_lexer": "ipython3",
   "version": "3.5.2"
  }
 },
 "nbformat": 4,
 "nbformat_minor": 2
}
