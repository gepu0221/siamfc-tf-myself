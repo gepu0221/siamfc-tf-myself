{
 "cells": [
  {
   "cell_type": "code",
   "execution_count": 1,
   "metadata": {},
   "outputs": [
    {
     "name": "stdout",
     "output_type": "stream",
     "text": [
      "[2, 3, 4, 5]\n"
     ]
    }
   ],
   "source": [
    "import numpy as np\n",
    "\n",
    "l=[1,2,3,4,5]\n",
    "print(l[1:])"
   ]
  },
  {
   "cell_type": "code",
   "execution_count": 2,
   "metadata": {},
   "outputs": [
    {
     "name": "stdout",
     "output_type": "stream",
     "text": [
      "[[1, 2, 3, 4], [2, 3, 4, 5]]\n"
     ]
    }
   ],
   "source": [
    "w=[1,2]\n",
    "w[0]=[1,2,3,4]\n",
    "w[1]=[2,3,4,5]\n",
    "print(w)"
   ]
  },
  {
   "cell_type": "code",
   "execution_count": 3,
   "metadata": {},
   "outputs": [
    {
     "ename": "AssertionError",
     "evalue": "",
     "output_type": "error",
     "traceback": [
      "\u001b[0;31m---------------------------------------------------------------------------\u001b[0m",
      "\u001b[0;31mAssertionError\u001b[0m                            Traceback (most recent call last)",
      "\u001b[0;32m<ipython-input-3-743a943e17a1>\u001b[0m in \u001b[0;36m<module>\u001b[0;34m()\u001b[0m\n\u001b[1;32m      4\u001b[0m \u001b[0;32mwith\u001b[0m \u001b[0mtf\u001b[0m\u001b[0;34m.\u001b[0m\u001b[0mvariable_scope\u001b[0m\u001b[0;34m(\u001b[0m\u001b[0;34m\"foo\"\u001b[0m\u001b[0;34m,\u001b[0m \u001b[0mreuse\u001b[0m\u001b[0;34m=\u001b[0m\u001b[0;32mTrue\u001b[0m\u001b[0;34m)\u001b[0m\u001b[0;34m:\u001b[0m\u001b[0;34m\u001b[0m\u001b[0m\n\u001b[1;32m      5\u001b[0m     \u001b[0mv1\u001b[0m \u001b[0;34m=\u001b[0m \u001b[0mtf\u001b[0m\u001b[0;34m.\u001b[0m\u001b[0mget_variable\u001b[0m\u001b[0;34m(\u001b[0m\u001b[0;34m\"v\"\u001b[0m\u001b[0;34m,\u001b[0m \u001b[0;34m[\u001b[0m\u001b[0;36m1\u001b[0m\u001b[0;34m]\u001b[0m\u001b[0;34m)\u001b[0m\u001b[0;34m\u001b[0m\u001b[0m\n\u001b[0;32m----> 6\u001b[0;31m \u001b[0;32massert\u001b[0m \u001b[0mv1\u001b[0m \u001b[0;34m!=\u001b[0m \u001b[0mv\u001b[0m\u001b[0;34m\u001b[0m\u001b[0m\n\u001b[0m",
      "\u001b[0;31mAssertionError\u001b[0m: "
     ]
    }
   ],
   "source": [
    "import tensorflow as tf\n",
    "with tf.variable_scope(\"foo\"):\n",
    "    v = tf.get_variable(\"v\", [1])\n",
    "with tf.variable_scope(\"foo\", reuse=True):\n",
    "    v1 = tf.get_variable(\"v\", [1])\n",
    "assert v1 != v"
   ]
  },
  {
   "cell_type": "code",
   "execution_count": null,
   "metadata": {},
   "outputs": [],
   "source": [
    "import tensorflow as tf\n",
    "from tensorflow.python.framework.graph_util import convert_variables_to_constants\n",
    "import time\n",
    "\n",
    "def write_file_param():\n",
    "    #get the time stamp now\n",
    "    time_s=time.strftime('%Y-%m-%d-%H:%M:%S',time.localtime(time.time()))\n",
    "    re_file_path=str(time_s)+'graph.pb'\n",
    "    a=tf.get_variable(\"a\",[2,1],trainable=False,initializer=tf.constant_initializer([[1],[2]]))\n",
    "    #a=tf.Variable([[1],[2]],dtype=tf.float32,name='a')\n",
    "    with tf.Session() as sess:\n",
    "        sess.run(tf.global_variables_initializer())\n",
    "        graph=convert_variables_to_constants(sess,sess.graph_def,[\"a\"])\n",
    "        tf.train.write_graph(graph,'.',re_file_path,as_text=False)\n",
    "\n",
    "write_file_param()"
   ]
  },
  {
   "cell_type": "code",
   "execution_count": null,
   "metadata": {},
   "outputs": [],
   "source": [
    "import tensorflow as tf\n",
    "sess=tf.InteractiveSession()\n",
    "x=[[1.,2.,3.],[1.,1.,1.]]\n",
    "y=tf.nn.softmax(x)\n",
    "\n",
    "u=y.eval()\n",
    "print(u)"
   ]
  },
  {
   "cell_type": "code",
   "execution_count": null,
   "metadata": {},
   "outputs": [],
   "source": [
    "import tensorflow as tf\n",
    "\n",
    "with tf.variable_scope('conv5'):\n",
    "    W=tf.get_variable(\"W\",[1],initializer=tf.constant_initializer(1.0))\n",
    "\n",
    "\n",
    "\n",
    "with tf.Session() as sess:\n",
    "    tf.global_variables_initializer().run()\n",
    "    with tf.variable_scope('conv5',reuse=True):\n",
    "        W1=tf.get_variable(\"W\",[1])\n",
    "\n",
    "print(W==W1)\n",
    "  "
   ]
  },
  {
   "cell_type": "code",
   "execution_count": null,
   "metadata": {},
   "outputs": [],
   "source": [
    "w[0]=[1,2,3,4]\n",
    "w[1]=[2,3,4,5]\n",
    "print(w)"
   ]
  },
  {
   "cell_type": "code",
   "execution_count": null,
   "metadata": {},
   "outputs": [],
   "source": [
    "import tensorflow as tf\n",
    "w=[1,2]\n",
    "#w[0]=[1,2,3,4]\n",
    "#w[1]=[1,2,6,4]\n",
    "w[0]=1\n",
    "w[1]=2\n",
    "print(w[0])\n",
    "print(w[1])\n",
    "\n",
    "w1=tf.placeholder(tf.int32)\n",
    "w2=tf.placeholder(tf.int32)\n",
    "def test():\n",
    "    b2=1\n",
    "    b1=3\n",
    "    with tf.variable_scope('c1'):\n",
    "        w11=tf.get_variable('W1',[1],trainable=False,initializer=tf.constant_initializer(w1))\n",
    "        w22=tf.get_variable('W2',[1],trainable=False,initializer=tf.constant_initializer(w2))\n",
    "        \n",
    "        tf.summary.scalar('W1',w11)\n",
    "        w11=w11+w11\n",
    "        w22=w22+w22\n",
    "    \n",
    "    return w11,w22\n",
    "\n",
    "w_op=test()\n",
    "    \n",
    "with tf.Session() as sess:\n",
    "    tf.global_variables_initializer().run()\n",
    "    merged=tf.summary.merge_all()\n",
    "    writer=tf.summary.FileWriter('/tmp/tensorlogs/test',sess.graph)\n",
    "    \n",
    "    w_r1=sess.run([w_op],feed_dict={w1:w[0],w2:w[1]})\n",
    "    \n",
    "    print(w_r1)\n",
    "    #print(w_r2)"
   ]
  },
  {
   "cell_type": "code",
   "execution_count": null,
   "metadata": {},
   "outputs": [],
   "source": []
  },
  {
   "cell_type": "code",
   "execution_count": null,
   "metadata": {},
   "outputs": [],
   "source": []
  }
 ],
 "metadata": {
  "kernelspec": {
   "display_name": "Python 3",
   "language": "python",
   "name": "python3"
  },
  "language_info": {
   "codemirror_mode": {
    "name": "ipython",
    "version": 3
   },
   "file_extension": ".py",
   "mimetype": "text/x-python",
   "name": "python",
   "nbconvert_exporter": "python",
   "pygments_lexer": "ipython3",
   "version": "3.5.2"
  }
 },
 "nbformat": 4,
 "nbformat_minor": 2
}
