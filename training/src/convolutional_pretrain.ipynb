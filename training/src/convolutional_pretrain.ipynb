{
 "cells": [
  {
   "cell_type": "code",
   "execution_count": null,
   "metadata": {},
   "outputs": [],
   "source": [
    "import tensorflow as tf\n",
    "\n",
    "#scope:指定当前所处的scope的名称，默认为None时名称即为‘conv’\n",
    "def set_convolutional(X,W,b,stride,bn_beta,bn_gamma,bn_init_mean,bn_init_var,batchnorm=True,activation=True,reuse=False,scope=None):\n",
    "    \n",
    "    #use the input scope or default to \"conv\"\n",
    "    #if reuse????:?????????\n",
    "    with tf.variable_scope(scope or 'conv',reuse=reuse):\n",
    "        #trainable:标记是否加入GraphKeys.TRAINABLE_VARIABLES集合\n",
    "        W=tf.get_variable(\"W\",W.shape,trainable=False,initializer=tf.constant_initializer(W))\n",
    "        b=tf.get_variable(\"b\",b.shape,trainable=False,initializer=tf.constant_initializer(b))\n",
    "        \n",
    "        #padding='VALID'：按照(图片大小-filterSize(=W.size))/stride+1\n",
    "        #padding='SAME' :大小和原图像一致\n",
    "        #stride:卷积的步长\n",
    "        h=tf.nn.conv2d(X,W,strides=[1,stride,stride,1],padding='VALID')+b\n",
    "        \n",
    "        if batchnorm:\n",
    "            #def tf.layers.batch_normalization(input,mean,variance,offset,scale,variance_epsilon,name=None)\n",
    "            h=tf.layers.batch_normalization(h,beta_initializer=tf.constant_initializer(bn_beta),\n",
    "                                           gamma_initializer=tf.constant_initializer(bn_gamma),\n",
    "                                           moving_mean_initializer=tf.constant_initializer(bn_init_mean),\n",
    "                                           moving_variance_initializer=tf.constant_initializer(bn_init_var),\n",
    "                                           training=False,trainable=False)\n",
    "        if activation:\n",
    "            h=tf.nn.relu(h)\n",
    "            \n",
    "    return h\n",
    "    "
   ]
  }
 ],
 "metadata": {
  "kernelspec": {
   "display_name": "Python 3",
   "language": "python",
   "name": "python3"
  },
  "language_info": {
   "codemirror_mode": {
    "name": "ipython",
    "version": 3
   },
   "file_extension": ".py",
   "mimetype": "text/x-python",
   "name": "python",
   "nbconvert_exporter": "python",
   "pygments_lexer": "ipython3",
   "version": "3.5.2"
  }
 },
 "nbformat": 4,
 "nbformat_minor": 2
}
