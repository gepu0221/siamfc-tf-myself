{
 "cells": [
  {
   "cell_type": "code",
   "execution_count": 1,
   "metadata": {},
   "outputs": [],
   "source": [
    "from __future__ import division"
   ]
  },
  {
   "cell_type": "code",
   "execution_count": 2,
   "metadata": {},
   "outputs": [
    {
     "name": "stdout",
     "output_type": "stream",
     "text": [
      "Using Tensorflow 1.4.0\n"
     ]
    }
   ],
   "source": [
    "import sys\n",
    "import os\n",
    "import numpy as np\n",
    "from PIL import Image\n",
    "import src.siamese as siam\n",
    "from src.tracker import tracker\n",
    "from src.parse_arguments import parse_arguments\n",
    "from src.region_to_bbox import region_to_bbox\n"
   ]
  },
  {
   "cell_type": "code",
   "execution_count": 3,
   "metadata": {},
   "outputs": [],
   "source": [
    "def main():\n",
    "    #avoid printing TF debugging information\n",
    "    #仅显示error log\n",
    "    os.environ['TF_CPP_MIN_LOG_LEVEL']='3'\n",
    "    #TODO:allow parameters from command line or leave everything in json files?\n",
    "    hp,evaluation,run,env,design=parse_arguments()\n",
    "    \n",
    "    \n",
    "    #gt_,frame_name_list_,_,_=_init_video(env,evaluation,evaluation.video)\n",
    "    #pos_x,pos_y,target_w,target_h=region_to_bbox(gt_[0])\n",
    "    #print('---target_w---'+\"%d\"%target_w+'--target_h---'+\"%d\"%target_h)\n",
    "    #why????????????? \n",
    "    #Set size for use with tf.image.resize_images with align_corners=True\n",
    "    #For example:\n",
    "    # [1,4,7]=>[1 2 3 4 5 6 7]  (length 3*(3-1)+1)\n",
    "    #instead of\n",
    "    #[1,4,7]=>[1 1 2 3 4 5 6 7 7](length 3*3)\n",
    "    #Why hp.response_up???\n",
    "    #design.score_sz=33\n",
    "    #hp.response_up=8\n",
    "    final_score_sz=hp.response_up*(design.score_sz-1)+1\n",
    "    #build TF graph once for all\n",
    "    #filename,image,templates_z,scores are only processes.!!!\n",
    "    #真正返回信息需要用sess去执行（tracker中执行）\n",
    "    #return filename, image, templates_z, scores_up\n",
    "    filename,image,templates_z,scores=siam.build_tracking_graph(final_score_sz,design,env)\n",
    "    \n",
    "    #iterate through all videos of evaluation dataset\n",
    "    if evaluation.video=='all':\n",
    "        dataset_folder=os.path.join(env.root_dataset,evaluation.dataset)\n",
    "        #os.listdir(path):返回指定路径下的文件和文件夹\n",
    "        videos_list=[v for v in os.listdir(dataset_folder)]\n",
    "        videos_list.sort()\n",
    "        nv=np.size(videos_list)\n",
    "        speed=np.zeros(nv*evaluation.n_subseq)\n",
    "        precisions=np.zeros(nv*evaluation.n_subseq)\n",
    "        precisions_auc=np.zeros(nv*evaluation.n_subseq)\n",
    "        ious=np.zeros(nv*evaluation.n_subseq)\n",
    "        lengths=np.zeros(nv*evaluation.n_subseq)\n",
    "        #遍历不同的视频样本\n",
    "        for i in range(nv):\n",
    "            #frame_name_list:each image of a video sequence\n",
    "            gt,frame_name_list,frame_sz,n_frames=_init_video(env,evaluation,videos_list[i])\n",
    "            #np.rint():对浮点数取整但不改变浮点数类型\n",
    "            #n_subseq=3\n",
    "            starts=np.rint(np.linspace(0,n_frame-1,evaluation.n_subseq+1))\n",
    "            #分成n_subseq+1份，将数组赋给starts\n",
    "            starts=starts[0:evaluation.n_subseq]\n",
    "            for j in range(evaluation.n_subseq):\n",
    "                start_frame=int(starts[j])\n",
    "                #start_frame:指start_frame及以后(选取了n_subseq中的一份)\n",
    "                gt_=gt[start_frame:,:]\n",
    "                frame_name_list_=frame_name_list[start_frame:]\n",
    "                pos_x,pos_y,target_w,target_h=region_to_bbox(gt_[0])\n",
    "                idx=i*evaluation.n_subseq+j\n",
    "                #Update\n",
    "                bboxes,speed[idx]=tracker(hp,run,design,env,evaluation,frame_name_list_,pos_x,pos_y,\n",
    "                #bboxes,speed[idx]=tracker(hp,run,design,frame_name_list_,pos_x,pos_y,\n",
    "                                         target_w,target_h,final_score_sz,filename,\n",
    "                                         image,templates_z,scores,start_frame)\n",
    "                #gt_:ground truth\n",
    "                #bboxes:the result of tracking\n",
    "                lengths[idx],precisions[idx],precisions_auc[idx],ious[idx]=_compile_results(gt_,bboxes,\n",
    "                                                                                            evaluation.dist_threshold)\n",
    "                print(str(i)+'--'+videos_list[i]+\n",
    "                      '--Precision: '+\"%.2f\"%precisions[idx]+\n",
    "                      '--Precisions AUC: '+\"%.2f\"%precisions_auc[idx]+\n",
    "                      '--IOU: '+\"%.2f\"%ious[idx]+\n",
    "                      '--Speed: '+\"%.2f\"%speed[idx]+'--')\n",
    "    \n",
    "    else:\n",
    "        #evaluation.video='all'\n",
    "        print(evaluation.video)\n",
    "        gt,frame_name_list,_,_=_init_video(env,evaluation,evaluation.video)\n",
    "        #evaluation.start_frame=0\n",
    "        pos_x,pos_y,target_w,target_h=region_to_bbox(gt[evaluation.start_frame])\n",
    "        \n",
    "        #Update\n",
    "        #bboxes,speed=tracker(hp,run,design,frame_name_list,pos_x,pos_y,target_w,target_h,final_score_sz,\n",
    "        bboxes,speed=tracker(hp,run,design,env,evaluation,frame_name_list,pos_x,pos_y,target_w,target_h,final_score_sz,\n",
    "                            filename,image,templates_z,scores,evaluation.start_frame)\n",
    "        _,precision,precisions_auc,iou=_compile_results(gt,bboxes,evaluation.dist_threshold)\n",
    "         #print(evaluation.video+\n",
    "        print(evaluation.video+'--Precision: '+\"(%d px)\"%evaluation.dist_threshold+': '+\"%.2f\"%precision+\n",
    "                      '--Precisions AUC: '+\"%.2f\"%precisions_auc+\n",
    "                      '--IOU: '+\"%.2f\"%iou+\n",
    "                      '--Speed: '+\"%.2f\"%speed+'--')"
   ]
  },
  {
   "cell_type": "code",
   "execution_count": 4,
   "metadata": {},
   "outputs": [],
   "source": [
    "#init a video info of a video sequence\n",
    "def _init_video(env,evaluation,video):\n",
    "    video_folder=os.path.join(env.root_dataset,evaluation.dataset,video)\n",
    "    #get the each image from image file\n",
    "    #Update\n",
    "    frame_name_list=[f for f in os.listdir(video_folder) if f.endswith(\".jpg\")]\n",
    "    #frame_name_list=[f for f in os.listdir(video_folder) if f.endswith(\".bmp\")]\n",
    "    frame_name_list=[os.path.join(env.root_dataset,evaluation.dataset,video,'')+s for s in frame_name_list]\n",
    "    frame_name_list.sort()\n",
    "    with Image.open(frame_name_list[0]) as img:\n",
    "        frame_sz=np.asarray(img.size)\n",
    "        #????img的width和height的顺序????????????\n",
    "        frame_sz[1],frame_sz[0]=frame_sz[0],frame_sz[1]\n",
    "        \n",
    "    #read the initialization from ground truth\n",
    "    gt_file=os.path.join(video_folder,'groundtruth.txt')\n",
    "    #将txt转换为表格\n",
    "    #Update\n",
    "    gt=np.genfromtxt(gt_file,delimiter=',')\n",
    "    #gt=np.genfromtxt(gt_file,delimiter=' ')\n",
    "    #the frame num of video\n",
    "    n_frames=len(frame_name_list)\n",
    "    print(n_frames)\n",
    "    print(len(gt))\n",
    "    assert n_frames==len(gt),'Number of frames and number of GT lines should be equal.'\n",
    "    \n",
    "    return gt,frame_name_list,frame_sz,n_frames"
   ]
  },
  {
   "cell_type": "code",
   "execution_count": 5,
   "metadata": {},
   "outputs": [],
   "source": [
    "def _compile_results(gt,bboxes,dist_threshold):\n",
    "    l=np.size(bboxes,0)\n",
    "    #np.zeros(shape=(1,4),dtype=float, order='C')\n",
    "    gt4=np.zeros((l,4))\n",
    "    new_distances=np.zeros(l)\n",
    "    new_ious=np.zeros(l)\n",
    "    n_thresholds=50\n",
    "    precisions_ths=np.zeros(n_thresholds)\n",
    "\n",
    "    for i in range(l):\n",
    "        gt4[i,:]=region_to_bbox(gt[i,:],center=False)\n",
    "        new_distances[i]=_compute_distance(bboxes[i,:],gt4[i,:])\n",
    "        #计算重叠率\n",
    "        new_ious[i]=_compute_iou(bboxes[i,:],gt4[i,:])\n",
    "        \n",
    "    #what's the percentage of from in which center displacement is inferior to given threshold?(OTB metric)\n",
    "    #sum(new_distances<dist_threshold):get the number of (new_distances<dist_threshold)\n",
    "    precision=sum(new_distances<dist_threshold)/np.size(new_distances)*100\n",
    "    \n",
    "    #find above result for many thresholds,then report the AUC\n",
    "    thresholds=np.linspace(0,25,n_thresholds+1)\n",
    "    #get the number from the index of 1\n",
    "    thresholds=thresholds[-n_thresholds:]\n",
    "    #!!!reverse it so that higer values of precision goes at the beginning\n",
    "    thresholds=thresholds[::-1]\n",
    "    for i in range(n_thresholds):\n",
    "        precisions_ths[i]=sum(new_distances<thresholds[i])/np.size(new_distances)\n",
    "        \n",
    "    #integrate over the thresholds\n",
    "    #AUC（Area Under Curve）被定义为ROC曲线下的面积\n",
    "    precision_auc=np.trapz(precisions_ths)\n",
    "    \n",
    "    #per frame averaged interseciton over union (OTB metric)\n",
    "    iou=np.mean(new_ious)*100\n",
    "\n",
    "    return l,precision,precision_auc,iou"
   ]
  },
  {
   "cell_type": "code",
   "execution_count": 6,
   "metadata": {},
   "outputs": [],
   "source": [
    "#get the center distance of the two boxes\n",
    "def _compute_distance(boxA,boxB):\n",
    "    #get the center\n",
    "    a=np.array((boxA[0]+boxA[2]/2,boxA[1]+boxA[3]/2))\n",
    "    b=np.array((boxB[0]+boxB[2]/2,boxB[1]+boxB[3]/2))\n",
    "    #范式\n",
    "    dist=np.linalg.norm(a-b)\n",
    "    \n",
    "    assert dist>=0\n",
    "    assert dist!=float('Inf')\n",
    "    \n",
    "    return dist"
   ]
  },
  {
   "cell_type": "code",
   "execution_count": 7,
   "metadata": {},
   "outputs": [],
   "source": [
    "def _compute_iou(boxA,boxB):\n",
    "    #determine the (x,y) -cooddinates of the intersection rectangle\n",
    "    xA=max(boxA[0],boxB[0])\n",
    "    yA=max(boxA[1],boxB[1])\n",
    "    xB=min(boxA[0]+boxA[2],boxB[0]+boxB[2])\n",
    "    yB=min(boxA[1]+boxA[3],boxB[1]+boxB[3])\n",
    "    \n",
    "    if xA<xB and yA<yB:\n",
    "        #compute the area of intersection rectangle\n",
    "        interArea=(xB-xA)*(yB-yA)\n",
    "        #compute the area of both the prediction and ground-truth\\\n",
    "        #rectangles\n",
    "        boxAArea=boxA[2]*boxA[3]\n",
    "        boxBArea=boxB[2]*boxB[3]\n",
    "        #compute the intersection over union by taking the intersection\n",
    "        #area and dividing it by the sum of prediction + ground-truth\n",
    "        #areas - the intersection area\n",
    "        iou=interArea/float(boxAArea+boxBArea-interArea)\n",
    "    else:\n",
    "        iou=0\n",
    "        \n",
    "    assert iou>=0\n",
    "    assert iou<=1.01\n",
    "    \n",
    "    return iou\n",
    "    \n",
    "    "
   ]
  },
  {
   "cell_type": "code",
   "execution_count": 8,
   "metadata": {
    "scrolled": false
   },
   "outputs": [
    {
     "name": "stdout",
     "output_type": "stream",
     "text": [
      "end\n",
      "> Layer 1\n",
      "Conv:setting br_conv1f br_conv1b\n",
      "Conv : stride 2 filter-group False\n",
      "_pool_stride\n",
      "> Layer 2\n",
      "Conv:setting br_conv2f br_conv2b\n",
      "Conv : stride 1 filter-group True\n",
      "_pool_stride\n",
      "> Layer 3\n",
      "Conv:setting br_conv3f br_conv3b\n",
      "Conv : stride 1 filter-group False\n",
      "> Layer 4\n",
      "Conv:setting br_conv4f br_conv4b\n",
      "Conv : stride 1 filter-group True\n",
      "> Layer 5\n",
      "Conv:setting br_conv5f br_conv5b\n",
      "Conv : stride 1 filter-group True\n",
      "tc_Airport_ce\n",
      "148\n",
      "148\n",
      "148\n",
      "conv1\n"
     ]
    },
    {
     "ename": "FailedPreconditionError",
     "evalue": "Attempting to use uninitialized value conv1/W\n\t [[Node: conv1/W/read = Identity[T=DT_FLOAT, _class=[\"loc:@conv1/W\"], _device=\"/job:localhost/replica:0/task:0/device:GPU:0\"](conv1/W)]]\n\t [[Node: conv1/W/read/_1 = _Recv[client_terminated=false, recv_device=\"/job:localhost/replica:0/task:0/device:CPU:0\", send_device=\"/job:localhost/replica:0/task:0/device:GPU:0\", send_device_incarnation=1, tensor_name=\"edge_3_conv1/W/read\", tensor_type=DT_FLOAT, _device=\"/job:localhost/replica:0/task:0/device:CPU:0\"]()]]\n\nCaused by op 'conv1/W/read', defined at:\n  File \"/usr/lib/python3.5/runpy.py\", line 184, in _run_module_as_main\n    \"__main__\", mod_spec)\n  File \"/usr/lib/python3.5/runpy.py\", line 85, in _run_code\n    exec(code, run_globals)\n  File \"/usr/local/lib/python3.5/dist-packages/ipykernel_launcher.py\", line 16, in <module>\n    app.launch_new_instance()\n  File \"/usr/local/lib/python3.5/dist-packages/traitlets/config/application.py\", line 658, in launch_instance\n    app.start()\n  File \"/usr/local/lib/python3.5/dist-packages/ipykernel/kernelapp.py\", line 486, in start\n    self.io_loop.start()\n  File \"/usr/local/lib/python3.5/dist-packages/tornado/ioloop.py\", line 832, in start\n    self._run_callback(self._callbacks.popleft())\n  File \"/usr/local/lib/python3.5/dist-packages/tornado/ioloop.py\", line 605, in _run_callback\n    ret = callback()\n  File \"/usr/local/lib/python3.5/dist-packages/tornado/stack_context.py\", line 277, in null_wrapper\n    return fn(*args, **kwargs)\n  File \"/home/gp/.local/lib/python3.5/site-packages/zmq/eventloop/zmqstream.py\", line 536, in <lambda>\n    self.io_loop.add_callback(lambda : self._handle_events(self.socket, 0))\n  File \"/home/gp/.local/lib/python3.5/site-packages/zmq/eventloop/zmqstream.py\", line 450, in _handle_events\n    self._handle_recv()\n  File \"/home/gp/.local/lib/python3.5/site-packages/zmq/eventloop/zmqstream.py\", line 480, in _handle_recv\n    self._run_callback(callback, msg)\n  File \"/home/gp/.local/lib/python3.5/site-packages/zmq/eventloop/zmqstream.py\", line 432, in _run_callback\n    callback(*args, **kwargs)\n  File \"/usr/local/lib/python3.5/dist-packages/tornado/stack_context.py\", line 277, in null_wrapper\n    return fn(*args, **kwargs)\n  File \"/usr/local/lib/python3.5/dist-packages/ipykernel/kernelbase.py\", line 283, in dispatcher\n    return self.dispatch_shell(stream, msg)\n  File \"/usr/local/lib/python3.5/dist-packages/ipykernel/kernelbase.py\", line 233, in dispatch_shell\n    handler(stream, idents, msg)\n  File \"/usr/local/lib/python3.5/dist-packages/ipykernel/kernelbase.py\", line 399, in execute_request\n    user_expressions, allow_stdin)\n  File \"/usr/local/lib/python3.5/dist-packages/ipykernel/ipkernel.py\", line 208, in do_execute\n    res = shell.run_cell(code, store_history=store_history, silent=silent)\n  File \"/usr/local/lib/python3.5/dist-packages/ipykernel/zmqshell.py\", line 537, in run_cell\n    return super(ZMQInteractiveShell, self).run_cell(*args, **kwargs)\n  File \"/usr/local/lib/python3.5/dist-packages/IPython/core/interactiveshell.py\", line 2728, in run_cell\n    interactivity=interactivity, compiler=compiler, result=result)\n  File \"/usr/local/lib/python3.5/dist-packages/IPython/core/interactiveshell.py\", line 2850, in run_ast_nodes\n    if self.run_code(code, result):\n  File \"/usr/local/lib/python3.5/dist-packages/IPython/core/interactiveshell.py\", line 2910, in run_code\n    exec(code_obj, self.user_global_ns, self.user_ns)\n  File \"<ipython-input-8-988454cf1761>\", line 2, in <module>\n    sys.exit(main())\n  File \"<ipython-input-3-f010f0eafc0c>\", line 26, in main\n    filename,image,templates_z,scores=siam.build_tracking_graph(final_score_sz,design,env)\n  File \"/home/gp/repos/gp/EyeSurgery/siamfc/siamfc-tf-myself/src/siamese.py\", line 62, in build_tracking_graph\n    template_z, templates_x, p_names_list, p_val_list = _create_siamese(os.path.join(env.root_pretrained,design.net), x_crops, z_crops)\n  File \"/home/gp/repos/gp/EyeSurgery/siamfc/siamfc-tf-myself/src/siamese.py\", line 106, in _create_siamese\n    scope='conv'+str(i+1), reuse=False)\n  File \"/home/gp/repos/gp/EyeSurgery/siamfc/siamfc-tf-myself/src/convolutional.py\", line 8, in set_convolutional\n    W = tf.get_variable(\"W\", W.shape, trainable=False, initializer=tf.constant_initializer(W))\n  File \"/usr/local/lib/python3.5/dist-packages/tensorflow/python/ops/variable_scope.py\", line 1203, in get_variable\n    constraint=constraint)\n  File \"/usr/local/lib/python3.5/dist-packages/tensorflow/python/ops/variable_scope.py\", line 1092, in get_variable\n    constraint=constraint)\n  File \"/usr/local/lib/python3.5/dist-packages/tensorflow/python/ops/variable_scope.py\", line 425, in get_variable\n    constraint=constraint)\n  File \"/usr/local/lib/python3.5/dist-packages/tensorflow/python/ops/variable_scope.py\", line 394, in _true_getter\n    use_resource=use_resource, constraint=constraint)\n  File \"/usr/local/lib/python3.5/dist-packages/tensorflow/python/ops/variable_scope.py\", line 805, in _get_single_variable\n    constraint=constraint)\n  File \"/usr/local/lib/python3.5/dist-packages/tensorflow/python/ops/variables.py\", line 213, in __init__\n    constraint=constraint)\n  File \"/usr/local/lib/python3.5/dist-packages/tensorflow/python/ops/variables.py\", line 356, in _init_from_args\n    self._snapshot = array_ops.identity(self._variable, name=\"read\")\n  File \"/usr/local/lib/python3.5/dist-packages/tensorflow/python/ops/array_ops.py\", line 125, in identity\n    return gen_array_ops.identity(input, name=name)\n  File \"/usr/local/lib/python3.5/dist-packages/tensorflow/python/ops/gen_array_ops.py\", line 2071, in identity\n    \"Identity\", input=input, name=name)\n  File \"/usr/local/lib/python3.5/dist-packages/tensorflow/python/framework/op_def_library.py\", line 787, in _apply_op_helper\n    op_def=op_def)\n  File \"/usr/local/lib/python3.5/dist-packages/tensorflow/python/framework/ops.py\", line 2956, in create_op\n    op_def=op_def)\n  File \"/usr/local/lib/python3.5/dist-packages/tensorflow/python/framework/ops.py\", line 1470, in __init__\n    self._traceback = self._graph._extract_stack()  # pylint: disable=protected-access\n\nFailedPreconditionError (see above for traceback): Attempting to use uninitialized value conv1/W\n\t [[Node: conv1/W/read = Identity[T=DT_FLOAT, _class=[\"loc:@conv1/W\"], _device=\"/job:localhost/replica:0/task:0/device:GPU:0\"](conv1/W)]]\n\t [[Node: conv1/W/read/_1 = _Recv[client_terminated=false, recv_device=\"/job:localhost/replica:0/task:0/device:CPU:0\", send_device=\"/job:localhost/replica:0/task:0/device:GPU:0\", send_device_incarnation=1, tensor_name=\"edge_3_conv1/W/read\", tensor_type=DT_FLOAT, _device=\"/job:localhost/replica:0/task:0/device:CPU:0\"]()]]\n",
     "output_type": "error",
     "traceback": [
      "\u001b[0;31m---------------------------------------------------------------------------\u001b[0m",
      "\u001b[0;31mFailedPreconditionError\u001b[0m                   Traceback (most recent call last)",
      "\u001b[0;32m/usr/local/lib/python3.5/dist-packages/tensorflow/python/client/session.py\u001b[0m in \u001b[0;36m_do_call\u001b[0;34m(self, fn, *args)\u001b[0m\n\u001b[1;32m   1322\u001b[0m     \u001b[0;32mtry\u001b[0m\u001b[0;34m:\u001b[0m\u001b[0;34m\u001b[0m\u001b[0m\n\u001b[0;32m-> 1323\u001b[0;31m       \u001b[0;32mreturn\u001b[0m \u001b[0mfn\u001b[0m\u001b[0;34m(\u001b[0m\u001b[0;34m*\u001b[0m\u001b[0margs\u001b[0m\u001b[0;34m)\u001b[0m\u001b[0;34m\u001b[0m\u001b[0m\n\u001b[0m\u001b[1;32m   1324\u001b[0m     \u001b[0;32mexcept\u001b[0m \u001b[0merrors\u001b[0m\u001b[0;34m.\u001b[0m\u001b[0mOpError\u001b[0m \u001b[0;32mas\u001b[0m \u001b[0me\u001b[0m\u001b[0;34m:\u001b[0m\u001b[0;34m\u001b[0m\u001b[0m\n",
      "\u001b[0;32m/usr/local/lib/python3.5/dist-packages/tensorflow/python/client/session.py\u001b[0m in \u001b[0;36m_run_fn\u001b[0;34m(session, feed_dict, fetch_list, target_list, options, run_metadata)\u001b[0m\n\u001b[1;32m   1301\u001b[0m                                    \u001b[0mfeed_dict\u001b[0m\u001b[0;34m,\u001b[0m \u001b[0mfetch_list\u001b[0m\u001b[0;34m,\u001b[0m \u001b[0mtarget_list\u001b[0m\u001b[0;34m,\u001b[0m\u001b[0;34m\u001b[0m\u001b[0m\n\u001b[0;32m-> 1302\u001b[0;31m                                    status, run_metadata)\n\u001b[0m\u001b[1;32m   1303\u001b[0m \u001b[0;34m\u001b[0m\u001b[0m\n",
      "\u001b[0;32m/usr/local/lib/python3.5/dist-packages/tensorflow/python/framework/errors_impl.py\u001b[0m in \u001b[0;36m__exit__\u001b[0;34m(self, type_arg, value_arg, traceback_arg)\u001b[0m\n\u001b[1;32m    472\u001b[0m             \u001b[0mcompat\u001b[0m\u001b[0;34m.\u001b[0m\u001b[0mas_text\u001b[0m\u001b[0;34m(\u001b[0m\u001b[0mc_api\u001b[0m\u001b[0;34m.\u001b[0m\u001b[0mTF_Message\u001b[0m\u001b[0;34m(\u001b[0m\u001b[0mself\u001b[0m\u001b[0;34m.\u001b[0m\u001b[0mstatus\u001b[0m\u001b[0;34m.\u001b[0m\u001b[0mstatus\u001b[0m\u001b[0;34m)\u001b[0m\u001b[0;34m)\u001b[0m\u001b[0;34m,\u001b[0m\u001b[0;34m\u001b[0m\u001b[0m\n\u001b[0;32m--> 473\u001b[0;31m             c_api.TF_GetCode(self.status.status))\n\u001b[0m\u001b[1;32m    474\u001b[0m     \u001b[0;31m# Delete the underlying status object from memory otherwise it stays alive\u001b[0m\u001b[0;34m\u001b[0m\u001b[0;34m\u001b[0m\u001b[0m\n",
      "\u001b[0;31mFailedPreconditionError\u001b[0m: Attempting to use uninitialized value conv1/W\n\t [[Node: conv1/W/read = Identity[T=DT_FLOAT, _class=[\"loc:@conv1/W\"], _device=\"/job:localhost/replica:0/task:0/device:GPU:0\"](conv1/W)]]\n\t [[Node: conv1/W/read/_1 = _Recv[client_terminated=false, recv_device=\"/job:localhost/replica:0/task:0/device:CPU:0\", send_device=\"/job:localhost/replica:0/task:0/device:GPU:0\", send_device_incarnation=1, tensor_name=\"edge_3_conv1/W/read\", tensor_type=DT_FLOAT, _device=\"/job:localhost/replica:0/task:0/device:CPU:0\"]()]]",
      "\nDuring handling of the above exception, another exception occurred:\n",
      "\u001b[0;31mFailedPreconditionError\u001b[0m                   Traceback (most recent call last)",
      "\u001b[0;32m<ipython-input-8-988454cf1761>\u001b[0m in \u001b[0;36m<module>\u001b[0;34m()\u001b[0m\n\u001b[1;32m      1\u001b[0m \u001b[0;32mif\u001b[0m \u001b[0m__name__\u001b[0m\u001b[0;34m==\u001b[0m\u001b[0;34m'__main__'\u001b[0m\u001b[0;34m:\u001b[0m\u001b[0;34m\u001b[0m\u001b[0m\n\u001b[0;32m----> 2\u001b[0;31m     \u001b[0msys\u001b[0m\u001b[0;34m.\u001b[0m\u001b[0mexit\u001b[0m\u001b[0;34m(\u001b[0m\u001b[0mmain\u001b[0m\u001b[0;34m(\u001b[0m\u001b[0;34m)\u001b[0m\u001b[0;34m)\u001b[0m\u001b[0;34m\u001b[0m\u001b[0m\n\u001b[0m",
      "\u001b[0;32m<ipython-input-3-f010f0eafc0c>\u001b[0m in \u001b[0;36mmain\u001b[0;34m()\u001b[0m\n\u001b[1;32m     79\u001b[0m         \u001b[0;31m#bboxes,speed=tracker(hp,run,design,frame_name_list,pos_x,pos_y,target_w,target_h,final_score_sz,\u001b[0m\u001b[0;34m\u001b[0m\u001b[0;34m\u001b[0m\u001b[0m\n\u001b[1;32m     80\u001b[0m         bboxes,speed=tracker(hp,run,design,env,evaluation,frame_name_list,pos_x,pos_y,target_w,target_h,final_score_sz,\n\u001b[0;32m---> 81\u001b[0;31m                             filename,image,templates_z,scores,evaluation.start_frame)\n\u001b[0m\u001b[1;32m     82\u001b[0m         \u001b[0m_\u001b[0m\u001b[0;34m,\u001b[0m\u001b[0mprecision\u001b[0m\u001b[0;34m,\u001b[0m\u001b[0mprecisions_auc\u001b[0m\u001b[0;34m,\u001b[0m\u001b[0miou\u001b[0m\u001b[0;34m=\u001b[0m\u001b[0m_compile_results\u001b[0m\u001b[0;34m(\u001b[0m\u001b[0mgt\u001b[0m\u001b[0;34m,\u001b[0m\u001b[0mbboxes\u001b[0m\u001b[0;34m,\u001b[0m\u001b[0mevaluation\u001b[0m\u001b[0;34m.\u001b[0m\u001b[0mdist_threshold\u001b[0m\u001b[0;34m)\u001b[0m\u001b[0;34m\u001b[0m\u001b[0m\n\u001b[1;32m     83\u001b[0m          \u001b[0;31m#print(evaluation.video+\u001b[0m\u001b[0;34m\u001b[0m\u001b[0;34m\u001b[0m\u001b[0m\n",
      "\u001b[0;32m~/repos/gp/EyeSurgery/siamfc/siamfc-tf-myself/src/tracker.py\u001b[0m in \u001b[0;36mtracker\u001b[0;34m(hp, run, design, env, evaluation, frame_name_list, pos_x, pos_y, target_w, target_h, final_score_sz, filename, image, templates_z, scores, start_frame)\u001b[0m\n\u001b[1;32m    151\u001b[0m                 \u001b[0mb_\u001b[0m\u001b[0;34m=\u001b[0m\u001b[0mtf\u001b[0m\u001b[0;34m.\u001b[0m\u001b[0mget_variable\u001b[0m\u001b[0;34m(\u001b[0m\u001b[0;34m\"b\"\u001b[0m\u001b[0;34m,\u001b[0m\u001b[0;34m[\u001b[0m\u001b[0;36m1\u001b[0m\u001b[0;34m,\u001b[0m\u001b[0m_conv_w_out\u001b[0m\u001b[0;34m[\u001b[0m\u001b[0mi\u001b[0m\u001b[0;34m]\u001b[0m\u001b[0;34m]\u001b[0m\u001b[0;34m)\u001b[0m\u001b[0;34m\u001b[0m\u001b[0m\n\u001b[1;32m    152\u001b[0m                 \u001b[0;32mwith\u001b[0m \u001b[0mtf\u001b[0m\u001b[0;34m.\u001b[0m\u001b[0mSession\u001b[0m\u001b[0;34m(\u001b[0m\u001b[0;34m)\u001b[0m \u001b[0;32mas\u001b[0m \u001b[0msess\u001b[0m\u001b[0;34m:\u001b[0m\u001b[0;34m\u001b[0m\u001b[0m\n\u001b[0;32m--> 153\u001b[0;31m                     \u001b[0msess\u001b[0m\u001b[0;34m.\u001b[0m\u001b[0mrun\u001b[0m\u001b[0;34m(\u001b[0m\u001b[0mtf\u001b[0m\u001b[0;34m.\u001b[0m\u001b[0mPrint\u001b[0m\u001b[0;34m(\u001b[0m\u001b[0mW_\u001b[0m\u001b[0;34m,\u001b[0m\u001b[0;34m[\u001b[0m\u001b[0mW_\u001b[0m\u001b[0;34m]\u001b[0m\u001b[0;34m)\u001b[0m\u001b[0;34m)\u001b[0m\u001b[0;34m\u001b[0m\u001b[0m\n\u001b[0m\u001b[1;32m    154\u001b[0m                     \u001b[0msess\u001b[0m\u001b[0;34m.\u001b[0m\u001b[0mrun\u001b[0m\u001b[0;34m(\u001b[0m\u001b[0mtf\u001b[0m\u001b[0;34m.\u001b[0m\u001b[0mPrint\u001b[0m\u001b[0;34m(\u001b[0m\u001b[0mb_\u001b[0m\u001b[0;34m,\u001b[0m\u001b[0;34m[\u001b[0m\u001b[0mb_\u001b[0m\u001b[0;34m]\u001b[0m\u001b[0;34m)\u001b[0m\u001b[0;34m)\u001b[0m\u001b[0;34m\u001b[0m\u001b[0m\n\u001b[1;32m    155\u001b[0m \u001b[0;34m\u001b[0m\u001b[0m\n",
      "\u001b[0;32m/usr/local/lib/python3.5/dist-packages/tensorflow/python/client/session.py\u001b[0m in \u001b[0;36mrun\u001b[0;34m(self, fetches, feed_dict, options, run_metadata)\u001b[0m\n\u001b[1;32m    887\u001b[0m     \u001b[0;32mtry\u001b[0m\u001b[0;34m:\u001b[0m\u001b[0;34m\u001b[0m\u001b[0m\n\u001b[1;32m    888\u001b[0m       result = self._run(None, fetches, feed_dict, options_ptr,\n\u001b[0;32m--> 889\u001b[0;31m                          run_metadata_ptr)\n\u001b[0m\u001b[1;32m    890\u001b[0m       \u001b[0;32mif\u001b[0m \u001b[0mrun_metadata\u001b[0m\u001b[0;34m:\u001b[0m\u001b[0;34m\u001b[0m\u001b[0m\n\u001b[1;32m    891\u001b[0m         \u001b[0mproto_data\u001b[0m \u001b[0;34m=\u001b[0m \u001b[0mtf_session\u001b[0m\u001b[0;34m.\u001b[0m\u001b[0mTF_GetBuffer\u001b[0m\u001b[0;34m(\u001b[0m\u001b[0mrun_metadata_ptr\u001b[0m\u001b[0;34m)\u001b[0m\u001b[0;34m\u001b[0m\u001b[0m\n",
      "\u001b[0;32m/usr/local/lib/python3.5/dist-packages/tensorflow/python/client/session.py\u001b[0m in \u001b[0;36m_run\u001b[0;34m(self, handle, fetches, feed_dict, options, run_metadata)\u001b[0m\n\u001b[1;32m   1118\u001b[0m     \u001b[0;32mif\u001b[0m \u001b[0mfinal_fetches\u001b[0m \u001b[0;32mor\u001b[0m \u001b[0mfinal_targets\u001b[0m \u001b[0;32mor\u001b[0m \u001b[0;34m(\u001b[0m\u001b[0mhandle\u001b[0m \u001b[0;32mand\u001b[0m \u001b[0mfeed_dict_tensor\u001b[0m\u001b[0;34m)\u001b[0m\u001b[0;34m:\u001b[0m\u001b[0;34m\u001b[0m\u001b[0m\n\u001b[1;32m   1119\u001b[0m       results = self._do_run(handle, final_targets, final_fetches,\n\u001b[0;32m-> 1120\u001b[0;31m                              feed_dict_tensor, options, run_metadata)\n\u001b[0m\u001b[1;32m   1121\u001b[0m     \u001b[0;32melse\u001b[0m\u001b[0;34m:\u001b[0m\u001b[0;34m\u001b[0m\u001b[0m\n\u001b[1;32m   1122\u001b[0m       \u001b[0mresults\u001b[0m \u001b[0;34m=\u001b[0m \u001b[0;34m[\u001b[0m\u001b[0;34m]\u001b[0m\u001b[0;34m\u001b[0m\u001b[0m\n",
      "\u001b[0;32m/usr/local/lib/python3.5/dist-packages/tensorflow/python/client/session.py\u001b[0m in \u001b[0;36m_do_run\u001b[0;34m(self, handle, target_list, fetch_list, feed_dict, options, run_metadata)\u001b[0m\n\u001b[1;32m   1315\u001b[0m     \u001b[0;32mif\u001b[0m \u001b[0mhandle\u001b[0m \u001b[0;32mis\u001b[0m \u001b[0;32mNone\u001b[0m\u001b[0;34m:\u001b[0m\u001b[0;34m\u001b[0m\u001b[0m\n\u001b[1;32m   1316\u001b[0m       return self._do_call(_run_fn, self._session, feeds, fetches, targets,\n\u001b[0;32m-> 1317\u001b[0;31m                            options, run_metadata)\n\u001b[0m\u001b[1;32m   1318\u001b[0m     \u001b[0;32melse\u001b[0m\u001b[0;34m:\u001b[0m\u001b[0;34m\u001b[0m\u001b[0m\n\u001b[1;32m   1319\u001b[0m       \u001b[0;32mreturn\u001b[0m \u001b[0mself\u001b[0m\u001b[0;34m.\u001b[0m\u001b[0m_do_call\u001b[0m\u001b[0;34m(\u001b[0m\u001b[0m_prun_fn\u001b[0m\u001b[0;34m,\u001b[0m \u001b[0mself\u001b[0m\u001b[0;34m.\u001b[0m\u001b[0m_session\u001b[0m\u001b[0;34m,\u001b[0m \u001b[0mhandle\u001b[0m\u001b[0;34m,\u001b[0m \u001b[0mfeeds\u001b[0m\u001b[0;34m,\u001b[0m \u001b[0mfetches\u001b[0m\u001b[0;34m)\u001b[0m\u001b[0;34m\u001b[0m\u001b[0m\n",
      "\u001b[0;32m/usr/local/lib/python3.5/dist-packages/tensorflow/python/client/session.py\u001b[0m in \u001b[0;36m_do_call\u001b[0;34m(self, fn, *args)\u001b[0m\n\u001b[1;32m   1334\u001b[0m         \u001b[0;32mexcept\u001b[0m \u001b[0mKeyError\u001b[0m\u001b[0;34m:\u001b[0m\u001b[0;34m\u001b[0m\u001b[0m\n\u001b[1;32m   1335\u001b[0m           \u001b[0;32mpass\u001b[0m\u001b[0;34m\u001b[0m\u001b[0m\n\u001b[0;32m-> 1336\u001b[0;31m       \u001b[0;32mraise\u001b[0m \u001b[0mtype\u001b[0m\u001b[0;34m(\u001b[0m\u001b[0me\u001b[0m\u001b[0;34m)\u001b[0m\u001b[0;34m(\u001b[0m\u001b[0mnode_def\u001b[0m\u001b[0;34m,\u001b[0m \u001b[0mop\u001b[0m\u001b[0;34m,\u001b[0m \u001b[0mmessage\u001b[0m\u001b[0;34m)\u001b[0m\u001b[0;34m\u001b[0m\u001b[0m\n\u001b[0m\u001b[1;32m   1337\u001b[0m \u001b[0;34m\u001b[0m\u001b[0m\n\u001b[1;32m   1338\u001b[0m   \u001b[0;32mdef\u001b[0m \u001b[0m_extend_graph\u001b[0m\u001b[0;34m(\u001b[0m\u001b[0mself\u001b[0m\u001b[0;34m)\u001b[0m\u001b[0;34m:\u001b[0m\u001b[0;34m\u001b[0m\u001b[0m\n",
      "\u001b[0;31mFailedPreconditionError\u001b[0m: Attempting to use uninitialized value conv1/W\n\t [[Node: conv1/W/read = Identity[T=DT_FLOAT, _class=[\"loc:@conv1/W\"], _device=\"/job:localhost/replica:0/task:0/device:GPU:0\"](conv1/W)]]\n\t [[Node: conv1/W/read/_1 = _Recv[client_terminated=false, recv_device=\"/job:localhost/replica:0/task:0/device:CPU:0\", send_device=\"/job:localhost/replica:0/task:0/device:GPU:0\", send_device_incarnation=1, tensor_name=\"edge_3_conv1/W/read\", tensor_type=DT_FLOAT, _device=\"/job:localhost/replica:0/task:0/device:CPU:0\"]()]]\n\nCaused by op 'conv1/W/read', defined at:\n  File \"/usr/lib/python3.5/runpy.py\", line 184, in _run_module_as_main\n    \"__main__\", mod_spec)\n  File \"/usr/lib/python3.5/runpy.py\", line 85, in _run_code\n    exec(code, run_globals)\n  File \"/usr/local/lib/python3.5/dist-packages/ipykernel_launcher.py\", line 16, in <module>\n    app.launch_new_instance()\n  File \"/usr/local/lib/python3.5/dist-packages/traitlets/config/application.py\", line 658, in launch_instance\n    app.start()\n  File \"/usr/local/lib/python3.5/dist-packages/ipykernel/kernelapp.py\", line 486, in start\n    self.io_loop.start()\n  File \"/usr/local/lib/python3.5/dist-packages/tornado/ioloop.py\", line 832, in start\n    self._run_callback(self._callbacks.popleft())\n  File \"/usr/local/lib/python3.5/dist-packages/tornado/ioloop.py\", line 605, in _run_callback\n    ret = callback()\n  File \"/usr/local/lib/python3.5/dist-packages/tornado/stack_context.py\", line 277, in null_wrapper\n    return fn(*args, **kwargs)\n  File \"/home/gp/.local/lib/python3.5/site-packages/zmq/eventloop/zmqstream.py\", line 536, in <lambda>\n    self.io_loop.add_callback(lambda : self._handle_events(self.socket, 0))\n  File \"/home/gp/.local/lib/python3.5/site-packages/zmq/eventloop/zmqstream.py\", line 450, in _handle_events\n    self._handle_recv()\n  File \"/home/gp/.local/lib/python3.5/site-packages/zmq/eventloop/zmqstream.py\", line 480, in _handle_recv\n    self._run_callback(callback, msg)\n  File \"/home/gp/.local/lib/python3.5/site-packages/zmq/eventloop/zmqstream.py\", line 432, in _run_callback\n    callback(*args, **kwargs)\n  File \"/usr/local/lib/python3.5/dist-packages/tornado/stack_context.py\", line 277, in null_wrapper\n    return fn(*args, **kwargs)\n  File \"/usr/local/lib/python3.5/dist-packages/ipykernel/kernelbase.py\", line 283, in dispatcher\n    return self.dispatch_shell(stream, msg)\n  File \"/usr/local/lib/python3.5/dist-packages/ipykernel/kernelbase.py\", line 233, in dispatch_shell\n    handler(stream, idents, msg)\n  File \"/usr/local/lib/python3.5/dist-packages/ipykernel/kernelbase.py\", line 399, in execute_request\n    user_expressions, allow_stdin)\n  File \"/usr/local/lib/python3.5/dist-packages/ipykernel/ipkernel.py\", line 208, in do_execute\n    res = shell.run_cell(code, store_history=store_history, silent=silent)\n  File \"/usr/local/lib/python3.5/dist-packages/ipykernel/zmqshell.py\", line 537, in run_cell\n    return super(ZMQInteractiveShell, self).run_cell(*args, **kwargs)\n  File \"/usr/local/lib/python3.5/dist-packages/IPython/core/interactiveshell.py\", line 2728, in run_cell\n    interactivity=interactivity, compiler=compiler, result=result)\n  File \"/usr/local/lib/python3.5/dist-packages/IPython/core/interactiveshell.py\", line 2850, in run_ast_nodes\n    if self.run_code(code, result):\n  File \"/usr/local/lib/python3.5/dist-packages/IPython/core/interactiveshell.py\", line 2910, in run_code\n    exec(code_obj, self.user_global_ns, self.user_ns)\n  File \"<ipython-input-8-988454cf1761>\", line 2, in <module>\n    sys.exit(main())\n  File \"<ipython-input-3-f010f0eafc0c>\", line 26, in main\n    filename,image,templates_z,scores=siam.build_tracking_graph(final_score_sz,design,env)\n  File \"/home/gp/repos/gp/EyeSurgery/siamfc/siamfc-tf-myself/src/siamese.py\", line 62, in build_tracking_graph\n    template_z, templates_x, p_names_list, p_val_list = _create_siamese(os.path.join(env.root_pretrained,design.net), x_crops, z_crops)\n  File \"/home/gp/repos/gp/EyeSurgery/siamfc/siamfc-tf-myself/src/siamese.py\", line 106, in _create_siamese\n    scope='conv'+str(i+1), reuse=False)\n  File \"/home/gp/repos/gp/EyeSurgery/siamfc/siamfc-tf-myself/src/convolutional.py\", line 8, in set_convolutional\n    W = tf.get_variable(\"W\", W.shape, trainable=False, initializer=tf.constant_initializer(W))\n  File \"/usr/local/lib/python3.5/dist-packages/tensorflow/python/ops/variable_scope.py\", line 1203, in get_variable\n    constraint=constraint)\n  File \"/usr/local/lib/python3.5/dist-packages/tensorflow/python/ops/variable_scope.py\", line 1092, in get_variable\n    constraint=constraint)\n  File \"/usr/local/lib/python3.5/dist-packages/tensorflow/python/ops/variable_scope.py\", line 425, in get_variable\n    constraint=constraint)\n  File \"/usr/local/lib/python3.5/dist-packages/tensorflow/python/ops/variable_scope.py\", line 394, in _true_getter\n    use_resource=use_resource, constraint=constraint)\n  File \"/usr/local/lib/python3.5/dist-packages/tensorflow/python/ops/variable_scope.py\", line 805, in _get_single_variable\n    constraint=constraint)\n  File \"/usr/local/lib/python3.5/dist-packages/tensorflow/python/ops/variables.py\", line 213, in __init__\n    constraint=constraint)\n  File \"/usr/local/lib/python3.5/dist-packages/tensorflow/python/ops/variables.py\", line 356, in _init_from_args\n    self._snapshot = array_ops.identity(self._variable, name=\"read\")\n  File \"/usr/local/lib/python3.5/dist-packages/tensorflow/python/ops/array_ops.py\", line 125, in identity\n    return gen_array_ops.identity(input, name=name)\n  File \"/usr/local/lib/python3.5/dist-packages/tensorflow/python/ops/gen_array_ops.py\", line 2071, in identity\n    \"Identity\", input=input, name=name)\n  File \"/usr/local/lib/python3.5/dist-packages/tensorflow/python/framework/op_def_library.py\", line 787, in _apply_op_helper\n    op_def=op_def)\n  File \"/usr/local/lib/python3.5/dist-packages/tensorflow/python/framework/ops.py\", line 2956, in create_op\n    op_def=op_def)\n  File \"/usr/local/lib/python3.5/dist-packages/tensorflow/python/framework/ops.py\", line 1470, in __init__\n    self._traceback = self._graph._extract_stack()  # pylint: disable=protected-access\n\nFailedPreconditionError (see above for traceback): Attempting to use uninitialized value conv1/W\n\t [[Node: conv1/W/read = Identity[T=DT_FLOAT, _class=[\"loc:@conv1/W\"], _device=\"/job:localhost/replica:0/task:0/device:GPU:0\"](conv1/W)]]\n\t [[Node: conv1/W/read/_1 = _Recv[client_terminated=false, recv_device=\"/job:localhost/replica:0/task:0/device:CPU:0\", send_device=\"/job:localhost/replica:0/task:0/device:GPU:0\", send_device_incarnation=1, tensor_name=\"edge_3_conv1/W/read\", tensor_type=DT_FLOAT, _device=\"/job:localhost/replica:0/task:0/device:CPU:0\"]()]]\n"
     ]
    },
    {
     "data": {
      "text/plain": [
       "<matplotlib.figure.Figure at 0x7f6d96aa0898>"
      ]
     },
     "metadata": {},
     "output_type": "display_data"
    }
   ],
   "source": [
    "if __name__=='__main__':\n",
    "    sys.exit(main())"
   ]
  },
  {
   "cell_type": "code",
   "execution_count": null,
   "metadata": {},
   "outputs": [],
   "source": [
    "print(evaluation.video+'--Precision: '+\"(%d px)\"%evaluation.dist_threshold+': '+\"%.2f\"%precision+\n",
    "                      '--Precisions AUC: '+\"%.2f\"%precisions_auc+\n",
    "                      '--IOU: '+\"%.2f\"%iou+\n",
    "                      '--Speed: '+\"%.2f\"%speed+'--')"
   ]
  },
  {
   "cell_type": "code",
   "execution_count": null,
   "metadata": {},
   "outputs": [],
   "source": []
  },
  {
   "cell_type": "code",
   "execution_count": null,
   "metadata": {},
   "outputs": [],
   "source": []
  }
 ],
 "metadata": {
  "kernelspec": {
   "display_name": "Python 3",
   "language": "python",
   "name": "python3"
  },
  "language_info": {
   "codemirror_mode": {
    "name": "ipython",
    "version": 3
   },
   "file_extension": ".py",
   "mimetype": "text/x-python",
   "name": "python",
   "nbconvert_exporter": "python",
   "pygments_lexer": "ipython3",
   "version": "3.5.2"
  }
 },
 "nbformat": 4,
 "nbformat_minor": 2
}
