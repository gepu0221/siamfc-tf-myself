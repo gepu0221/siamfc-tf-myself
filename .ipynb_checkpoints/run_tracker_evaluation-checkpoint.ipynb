{
 "cells": [
  {
   "cell_type": "code",
   "execution_count": 1,
   "metadata": {},
   "outputs": [],
   "source": [
    "from __future__ import division"
   ]
  },
  {
   "cell_type": "code",
   "execution_count": 2,
   "metadata": {},
   "outputs": [
    {
     "name": "stdout",
     "output_type": "stream",
     "text": [
      "Using Tensorflow 1.4.1\n"
     ]
    }
   ],
   "source": [
    "import sys\n",
    "import os\n",
    "import numpy as np\n",
    "from PIL import Image\n",
    "import src.siamese as siam\n",
    "from src.tracker import tracker\n",
    "from src.parse_arguments import parse_arguments\n",
    "from src.region_to_bbox import region_to_bbox\n"
   ]
  },
  {
   "cell_type": "code",
   "execution_count": 3,
   "metadata": {},
   "outputs": [],
   "source": [
    "def main():\n",
    "    #avoid printing TF debugging information\n",
    "    #仅显示error log\n",
    "    os.environ['TF_CPP_MIN_LOG_LEVEL']='3'\n",
    "    #TODO:allow parameters from command line or leave everything in json files?\n",
    "    hp,evaluation,run,env,design=parse_arguments()\n",
    "    \n",
    "    \n",
    "    #gt_,frame_name_list_,_,_=_init_video(env,evaluation,evaluation.video)\n",
    "    pos_x,pos_y,target_w,target_h=region_to_bbox(gt_[0])\n",
    "    print('---target_w---'+\"%d\"%target_w+'--target_h---'+\"%d\"%target_h)\n",
    "    #why????????????? \n",
    "    #Set size for use with tf.image.resize_images with align_corners=True\n",
    "    #For example:\n",
    "    # [1,4,7]=>[1 2 3 4 5 6 7]  (length 3*(3-1)+1)\n",
    "    #instead of\n",
    "    #[1,4,7]=>[1 1 2 3 4 5 6 7 7](length 3*3)\n",
    "    #Why hp.response_up???\n",
    "    #design.score_sz=33\n",
    "    #hp.response_up=8\n",
    "    final_score_sz=hp.response_up*(design.score_sz-1)+1\n",
    "    #build TF graph once for all\n",
    "    #filename,image,templates_z,scores are only processes.!!!\n",
    "    #真正返回信息需要用sess去执行（tracker中执行）\n",
    "    #return filename, image, templates_z, scores_up\n",
    "    filename,image,templates_z,scores=siam.build_tracking_graph(final_score_sz,design,env)\n",
    "    \n",
    "    #iterate through all videos of evaluation dataset\n",
    "    if evaluation.video=='all':\n",
    "        dataset_folder=os.path.join(env.root_dataset,evaluation.dataset)\n",
    "        #os.listdir(path):返回指定路径下的文件和文件夹\n",
    "        videos_list=[v for v in os.listdir(dataset_folder)]\n",
    "        videos_list.sort()\n",
    "        nv=np.size(videos_list)\n",
    "        speed=np.zeros(nv*evaluation.n_subseq)\n",
    "        precisions=np.zeros(nv*evaluation.n_subseq)\n",
    "        precisions_auc=np.zeros(nv*evaluation.n_subseq)\n",
    "        ious=np.zeros(nv*evaluation.n_subseq)\n",
    "        lengths=np.zeros(nv*evaluation.n_subseq)\n",
    "        #遍历不同的视频样本\n",
    "        for i in range(nv):\n",
    "            #frame_name_list:each image of a video sequence\n",
    "            gt,frame_name_list,frame_sz,n_frames=_init_video(env,evaluation,videos_list[i])\n",
    "            #np.rint():对浮点数取整但不改变浮点数类型\n",
    "            #n_subseq=3\n",
    "            starts=np.rint(np.linspace(0,n_frame-1,evaluation.n_subseq+1))\n",
    "            #分成n_subseq+1份，将数组赋给starts\n",
    "            starts=starts[0:evaluation.n_subseq]\n",
    "            for j in range(evaluation.n_subseq):\n",
    "                start_frame=int(starts[j])\n",
    "                #start_frame:指start_frame及以后(选取了n_subseq中的一份)\n",
    "                gt_=gt[start_frame:,:]\n",
    "                frame_name_list_=frame_name_list[start_frame:]\n",
    "                pos_x,pos_y,target_w,target_h=region_to_bbox(gt_[0])\n",
    "                idx=i*evaluation.n_subseq+j\n",
    "                #Update\n",
    "                bboxes,speed[idx]=tracker(hp,run,design,env,evaluation,frame_name_list_,pos_x,pos_y,\n",
    "                #bboxes,speed[idx]=tracker(hp,run,design,frame_name_list_,pos_x,pos_y,\n",
    "                                         target_w,target_h,final_score_sz,filename,\n",
    "                                         image,templates_z,scores,start_frame)\n",
    "                #gt_:ground truth\n",
    "                #bboxes:the result of tracking\n",
    "                lengths[idx],precisions[idx],precisions_auc[idx],ious[idx]=_compile_results(gt_,bboxes,\n",
    "                                                                                            evaluation.dist_threshold)\n",
    "                print(str(i)+'--'+videos_list[i]+\n",
    "                      '--Precision: '+\"%.2f\"%precisions[idx]+\n",
    "                      '--Precisions AUC: '+\"%.2f\"%precisions_auc[idx]+\n",
    "                      '--IOU: '+\"%.2f\"%ious[idx]+\n",
    "                      '--Speed: '+\"%.2f\"%speed[idx]+'--')\n",
    "    \n",
    "    else:\n",
    "        #evaluation.video='all'\n",
    "        print(evaluation.video)\n",
    "        gt,frame_name_list,_,_=_init_video(env,evaluation,evaluation.video)\n",
    "        #evaluation.start_frame=0\n",
    "        pos_x,pos_y,target_w,target_h=region_to_bbox(gt[evaluation.start_frame])\n",
    "        \n",
    "        #Update\n",
    "        #bboxes,speed=tracker(hp,run,design,frame_name_list,pos_x,pos_y,target_w,target_h,final_score_sz,\n",
    "        bboxes,speed=tracker(hp,run,design,env,evaluation,frame_name_list,pos_x,pos_y,target_w,target_h,final_score_sz,\n",
    "                            filename,image,templates_z,scores,evaluation.start_frame)\n",
    "        _,precision,precisions_auc,iou=_compile_results(gt,bboxes,evaluation.dist_threshold)\n",
    "         #print(evaluation.video+\n",
    "        print(evaluation.video+'--Precision: '+\"(%d px)\"%evaluation.dist_threshold+': '+\"%.2f\"%precision+\n",
    "                      '--Precisions AUC: '+\"%.2f\"%precisions_auc+\n",
    "                      '--IOU: '+\"%.2f\"%iou+\n",
    "                      '--Speed: '+\"%.2f\"%speed+'--')"
   ]
  },
  {
   "cell_type": "code",
   "execution_count": 4,
   "metadata": {},
   "outputs": [],
   "source": [
    "#init a video info of a video sequence\n",
    "def _init_video(env,evaluation,video):\n",
    "    video_folder=os.path.join(env.root_dataset,evaluation.dataset,video)\n",
    "    #get the each image from image file\n",
    "    #Update\n",
    "    #frame_name_list=[f for f in os.listdir(video_folder) if f.endswith(\".jpg\")]\n",
    "    frame_name_list=[f for f in os.listdir(video_folder) if f.endswith(\".bmp\")]\n",
    "    frame_name_list=[os.path.join(env.root_dataset,evaluation.dataset,video,'')+s for s in frame_name_list]\n",
    "    frame_name_list.sort()\n",
    "    with Image.open(frame_name_list[0]) as img:\n",
    "        frame_sz=np.asarray(img.size)\n",
    "        #????img的width和height的顺序????????????\n",
    "        frame_sz[1],frame_sz[0]=frame_sz[0],frame_sz[1]\n",
    "        \n",
    "    #read the initialization from ground truth\n",
    "    gt_file=os.path.join(video_folder,'groundtruth.txt')\n",
    "    #将txt转换为表格\n",
    "    #Update\n",
    "    #gt=np.genfromtxt(gt_file,delimiter=',')\n",
    "    gt=np.genfromtxt(gt_file,delimiter=' ')\n",
    "    #the frame num of video\n",
    "    n_frames=len(frame_name_list)\n",
    "    print(n_frames)\n",
    "    print(len(gt))\n",
    "    assert n_frames==len(gt),'Number of frames and number of GT lines should be equal.'\n",
    "    \n",
    "    return gt,frame_name_list,frame_sz,n_frames"
   ]
  },
  {
   "cell_type": "code",
   "execution_count": 5,
   "metadata": {},
   "outputs": [],
   "source": [
    "def _compile_results(gt,bboxes,dist_threshold):\n",
    "    l=np.size(bboxes,0)\n",
    "    #np.zeros(shape=(1,4),dtype=float, order='C')\n",
    "    gt4=np.zeros((l,4))\n",
    "    new_distances=np.zeros(l)\n",
    "    new_ious=np.zeros(l)\n",
    "    n_thresholds=50\n",
    "    precisions_ths=np.zeros(n_thresholds)\n",
    "\n",
    "    for i in range(l):\n",
    "        gt4[i,:]=region_to_bbox(gt[i,:],center=False)\n",
    "        new_distances[i]=_compute_distance(bboxes[i,:],gt4[i,:])\n",
    "        #计算重叠率\n",
    "        new_ious[i]=_compute_iou(bboxes[i,:],gt4[i,:])\n",
    "        \n",
    "    #what's the percentage of from in which center displacement is inferior to given threshold?(OTB metric)\n",
    "    #sum(new_distances<dist_threshold):get the number of (new_distances<dist_threshold)\n",
    "    precision=sum(new_distances<dist_threshold)/np.size(new_distances)*100\n",
    "    \n",
    "    #find above result for many thresholds,then report the AUC\n",
    "    thresholds=np.linspace(0,25,n_thresholds+1)\n",
    "    #get the number from the index of 1\n",
    "    thresholds=thresholds[-n_thresholds:]\n",
    "    #!!!reverse it so that higer values of precision goes at the beginning\n",
    "    thresholds=thresholds[::-1]\n",
    "    for i in range(n_thresholds):\n",
    "        precisions_ths[i]=sum(new_distances<thresholds[i])/np.size(new_distances)\n",
    "        \n",
    "    #integrate over the thresholds\n",
    "    #AUC（Area Under Curve）被定义为ROC曲线下的面积\n",
    "    precision_auc=np.trapz(precisions_ths)\n",
    "    \n",
    "    #per frame averaged interseciton over union (OTB metric)\n",
    "    iou=np.mean(new_ious)*100\n",
    "\n",
    "    return l,precision,precision_auc,iou"
   ]
  },
  {
   "cell_type": "code",
   "execution_count": 6,
   "metadata": {},
   "outputs": [],
   "source": [
    "#get the center distance of the two boxes\n",
    "def _compute_distance(boxA,boxB):\n",
    "    #get the center\n",
    "    a=np.array((boxA[0]+boxA[2]/2,boxA[1]+boxA[3]/2))\n",
    "    b=np.array((boxB[0]+boxB[2]/2,boxB[1]+boxB[3]/2))\n",
    "    #范式\n",
    "    dist=np.linalg.norm(a-b)\n",
    "    \n",
    "    assert dist>=0\n",
    "    assert dist!=float('Inf')\n",
    "    \n",
    "    return dist"
   ]
  },
  {
   "cell_type": "code",
   "execution_count": 7,
   "metadata": {},
   "outputs": [],
   "source": [
    "def _compute_iou(boxA,boxB):\n",
    "    #determine the (x,y) -cooddinates of the intersection rectangle\n",
    "    xA=max(boxA[0],boxB[0])\n",
    "    yA=max(boxA[1],boxB[1])\n",
    "    xB=min(boxA[0]+boxA[2],boxB[0]+boxB[2])\n",
    "    yB=min(boxA[1]+boxA[3],boxB[1]+boxB[3])\n",
    "    \n",
    "    if xA<xB and yA<yB:\n",
    "        #compute the area of intersection rectangle\n",
    "        interArea=(xB-xA)*(yB-yA)\n",
    "        #compute the area of both the prediction and ground-truth\\\n",
    "        #rectangles\n",
    "        boxAArea=boxA[2]*boxA[3]\n",
    "        boxBArea=boxB[2]*boxB[3]\n",
    "        #compute the intersection over union by taking the intersection\n",
    "        #area and dividing it by the sum of prediction + ground-truth\n",
    "        #areas - the intersection area\n",
    "        iou=interArea/float(boxAArea+boxBArea-interArea)\n",
    "    else:\n",
    "        iou=0\n",
    "        \n",
    "    assert iou>=0\n",
    "    assert iou<=1.01\n",
    "    \n",
    "    return iou\n",
    "    \n",
    "    "
   ]
  },
  {
   "cell_type": "code",
   "execution_count": 8,
   "metadata": {
    "scrolled": false
   },
   "outputs": [
    {
     "name": "stdout",
     "output_type": "stream",
     "text": [
      "end\n",
      "773\n",
      "773\n",
      "---target_w---281--target_h---576\n",
      "> Layer 1\n",
      "Conv:setting br_conv1f br_conv1b\n",
      "Conv : stride 2 filter-group False\n",
      "_pool_stride\n",
      "> Layer 2\n",
      "Conv:setting br_conv2f br_conv2b\n",
      "Conv : stride 1 filter-group True\n",
      "_pool_stride\n",
      "> Layer 3\n",
      "Conv:setting br_conv3f br_conv3b\n",
      "Conv : stride 1 filter-group False\n",
      "> Layer 4\n",
      "Conv:setting br_conv4f br_conv4b\n",
      "Conv : stride 1 filter-group True\n",
      "> Layer 5\n",
      "Conv:setting br_conv5f br_conv5b\n",
      "Conv : stride 1 filter-group True\n",
      "Image\n",
      "773\n",
      "773\n",
      "773\n",
      "Image--Precision: (20 px): 1.16--Precisions AUC: 0.32--IOU: 71.46--Speed: 5.04--\n"
     ]
    },
    {
     "ename": "SystemExit",
     "evalue": "",
     "output_type": "error",
     "traceback": [
      "An exception has occurred, use %tb to see the full traceback.\n",
      "\u001b[0;31mSystemExit\u001b[0m\n"
     ]
    },
    {
     "name": "stderr",
     "output_type": "stream",
     "text": [
      "/usr/local/lib/python3.5/dist-packages/IPython/core/interactiveshell.py:2918: UserWarning: To exit: use 'exit', 'quit', or Ctrl-D.\n",
      "  warn(\"To exit: use 'exit', 'quit', or Ctrl-D.\", stacklevel=1)\n"
     ]
    }
   ],
   "source": [
    "if __name__=='__main__':\n",
    "    sys.exit(main())"
   ]
  },
  {
   "cell_type": "code",
   "execution_count": null,
   "metadata": {},
   "outputs": [],
   "source": [
    "print(evaluation.video+'--Precision: '+\"(%d px)\"%evaluation.dist_threshold+': '+\"%.2f\"%precision+\n",
    "                      '--Precisions AUC: '+\"%.2f\"%precisions_auc+\n",
    "                      '--IOU: '+\"%.2f\"%iou+\n",
    "                      '--Speed: '+\"%.2f\"%speed+'--')"
   ]
  },
  {
   "cell_type": "code",
   "execution_count": null,
   "metadata": {},
   "outputs": [],
   "source": []
  }
 ],
 "metadata": {
  "kernelspec": {
   "display_name": "Python 3",
   "language": "python",
   "name": "python3"
  },
  "language_info": {
   "codemirror_mode": {
    "name": "ipython",
    "version": 3
   },
   "file_extension": ".py",
   "mimetype": "text/x-python",
   "name": "python",
   "nbconvert_exporter": "python",
   "pygments_lexer": "ipython3",
   "version": "3.5.2"
  }
 },
 "nbformat": 4,
 "nbformat_minor": 2
}
