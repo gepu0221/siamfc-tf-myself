{
 "cells": [
  {
   "cell_type": "code",
   "execution_count": 1,
   "metadata": {},
   "outputs": [
    {
     "name": "stdout",
     "output_type": "stream",
     "text": [
      "train_data/07\n",
      "858\n",
      "end\n",
      "train_data/02\n",
      "620\n",
      "end\n",
      "train_data/06\n",
      "415\n",
      "end\n",
      "train_data/02_a\n",
      "1186\n",
      "end\n",
      "train_data/03\n",
      "1446\n",
      "end\n",
      "train_data/04\n",
      "1500\n",
      "end\n",
      "train_data/08\n",
      "2218\n",
      "end\n"
     ]
    }
   ],
   "source": [
    "import tensorflow as tf\n",
    "import numpy as np\n",
    "import os\n",
    "\n",
    "train_data_folder='train_data'\n",
    "#train_data_folder=os.path.join()\n",
    "videos_list=[v for v in os.listdir(train_data_folder)]\n",
    "num_v=len(videos_list)\n",
    "for i in range(num_v):\n",
    "    video_folder=os.path.join(train_data_folder,videos_list[i])\n",
    "    print(video_folder)\n",
    "    gt_file=os.path.join(video_folder,'out.txt')\n",
    "    gt=np.genfromtxt(gt_file,delimiter=' ')\n",
    "    num=int(np.size(gt)/5)\n",
    "    print(num)\n",
    "    \n",
    "    new_gt=os.path.join(video_folder,'groundtruth.txt')\n",
    "    f=open(new_gt,'w')\n",
    "    for j in range(num):\n",
    "        gt_=gt[j]\n",
    "        str_=str(gt_[1])+','+str(gt_[2])+','+str(gt_[3])+','+str(gt_[4])\n",
    "        f.write(str_+'\\n')\n",
    "    f.close()\n",
    "    \n",
    "    print('end')\n",
    "        \n",
    "        \n",
    "    "
   ]
  },
  {
   "cell_type": "code",
   "execution_count": null,
   "metadata": {},
   "outputs": [],
   "source": []
  }
 ],
 "metadata": {
  "kernelspec": {
   "display_name": "Python 3",
   "language": "python",
   "name": "python3"
  },
  "language_info": {
   "codemirror_mode": {
    "name": "ipython",
    "version": 3
   },
   "file_extension": ".py",
   "mimetype": "text/x-python",
   "name": "python",
   "nbconvert_exporter": "python",
   "pygments_lexer": "ipython3",
   "version": "3.5.2"
  }
 },
 "nbformat": 4,
 "nbformat_minor": 2
}
